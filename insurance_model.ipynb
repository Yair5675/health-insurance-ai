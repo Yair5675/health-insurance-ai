{
 "cells": [
  {
   "cell_type": "markdown",
   "id": "e7f90aeb",
   "metadata": {},
   "source": [
    "# Loading the dataset:"
   ]
  },
  {
   "cell_type": "code",
   "execution_count": 1,
   "id": "7750c02d",
   "metadata": {},
   "outputs": [
    {
     "name": "stdout",
     "output_type": "stream",
     "text": [
      "Shape: (1338, 7)\n"
     ]
    },
    {
     "data": {
      "text/html": [
       "<div>\n",
       "<style scoped>\n",
       "    .dataframe tbody tr th:only-of-type {\n",
       "        vertical-align: middle;\n",
       "    }\n",
       "\n",
       "    .dataframe tbody tr th {\n",
       "        vertical-align: top;\n",
       "    }\n",
       "\n",
       "    .dataframe thead th {\n",
       "        text-align: right;\n",
       "    }\n",
       "</style>\n",
       "<table border=\"1\" class=\"dataframe\">\n",
       "  <thead>\n",
       "    <tr style=\"text-align: right;\">\n",
       "      <th></th>\n",
       "      <th>age</th>\n",
       "      <th>sex</th>\n",
       "      <th>bmi</th>\n",
       "      <th>children</th>\n",
       "      <th>smoker</th>\n",
       "      <th>region</th>\n",
       "      <th>charges</th>\n",
       "    </tr>\n",
       "  </thead>\n",
       "  <tbody>\n",
       "    <tr>\n",
       "      <th>0</th>\n",
       "      <td>19</td>\n",
       "      <td>female</td>\n",
       "      <td>27.900</td>\n",
       "      <td>0</td>\n",
       "      <td>yes</td>\n",
       "      <td>southwest</td>\n",
       "      <td>16884.92400</td>\n",
       "    </tr>\n",
       "    <tr>\n",
       "      <th>1</th>\n",
       "      <td>18</td>\n",
       "      <td>male</td>\n",
       "      <td>33.770</td>\n",
       "      <td>1</td>\n",
       "      <td>no</td>\n",
       "      <td>southeast</td>\n",
       "      <td>1725.55230</td>\n",
       "    </tr>\n",
       "    <tr>\n",
       "      <th>2</th>\n",
       "      <td>28</td>\n",
       "      <td>male</td>\n",
       "      <td>33.000</td>\n",
       "      <td>3</td>\n",
       "      <td>no</td>\n",
       "      <td>southeast</td>\n",
       "      <td>4449.46200</td>\n",
       "    </tr>\n",
       "    <tr>\n",
       "      <th>3</th>\n",
       "      <td>33</td>\n",
       "      <td>male</td>\n",
       "      <td>22.705</td>\n",
       "      <td>0</td>\n",
       "      <td>no</td>\n",
       "      <td>northwest</td>\n",
       "      <td>21984.47061</td>\n",
       "    </tr>\n",
       "    <tr>\n",
       "      <th>4</th>\n",
       "      <td>32</td>\n",
       "      <td>male</td>\n",
       "      <td>28.880</td>\n",
       "      <td>0</td>\n",
       "      <td>no</td>\n",
       "      <td>northwest</td>\n",
       "      <td>3866.85520</td>\n",
       "    </tr>\n",
       "  </tbody>\n",
       "</table>\n",
       "</div>"
      ],
      "text/plain": [
       "   age     sex     bmi  children smoker     region      charges\n",
       "0   19  female  27.900         0    yes  southwest  16884.92400\n",
       "1   18    male  33.770         1     no  southeast   1725.55230\n",
       "2   28    male  33.000         3     no  southeast   4449.46200\n",
       "3   33    male  22.705         0     no  northwest  21984.47061\n",
       "4   32    male  28.880         0     no  northwest   3866.85520"
      ]
     },
     "execution_count": 1,
     "metadata": {},
     "output_type": "execute_result"
    }
   ],
   "source": [
    "import pandas as pd\n",
    "\n",
    "dataset = pd.read_csv('insurance.csv')\n",
    "\n",
    "print(f\"Shape: {dataset.shape}\")\n",
    "\n",
    "dataset.head()"
   ]
  },
  {
   "cell_type": "markdown",
   "id": "e8c80228",
   "metadata": {},
   "source": [
    "# Preprocessing the data:"
   ]
  },
  {
   "cell_type": "code",
   "execution_count": 2,
   "id": "c00f5e6f",
   "metadata": {},
   "outputs": [
    {
     "name": "stdout",
     "output_type": "stream",
     "text": [
      "Numeric features: ['age', 'bmi', 'children', 'charges']\n",
      "Non-numeric features: ['sex', 'smoker', 'region']\n"
     ]
    },
    {
     "data": {
      "text/html": [
       "<div>\n",
       "<style scoped>\n",
       "    .dataframe tbody tr th:only-of-type {\n",
       "        vertical-align: middle;\n",
       "    }\n",
       "\n",
       "    .dataframe tbody tr th {\n",
       "        vertical-align: top;\n",
       "    }\n",
       "\n",
       "    .dataframe thead th {\n",
       "        text-align: right;\n",
       "    }\n",
       "</style>\n",
       "<table border=\"1\" class=\"dataframe\">\n",
       "  <thead>\n",
       "    <tr style=\"text-align: right;\">\n",
       "      <th></th>\n",
       "      <th>age</th>\n",
       "      <th>bmi</th>\n",
       "      <th>children</th>\n",
       "      <th>charges</th>\n",
       "      <th>sex</th>\n",
       "      <th>smoker</th>\n",
       "      <th>region</th>\n",
       "    </tr>\n",
       "  </thead>\n",
       "  <tbody>\n",
       "    <tr>\n",
       "      <th>0</th>\n",
       "      <td>-1.438764</td>\n",
       "      <td>-0.453320</td>\n",
       "      <td>-0.908614</td>\n",
       "      <td>0.298584</td>\n",
       "      <td>0.0</td>\n",
       "      <td>1.0</td>\n",
       "      <td>3.0</td>\n",
       "    </tr>\n",
       "    <tr>\n",
       "      <th>1</th>\n",
       "      <td>-1.509965</td>\n",
       "      <td>0.509621</td>\n",
       "      <td>-0.078767</td>\n",
       "      <td>-0.953689</td>\n",
       "      <td>1.0</td>\n",
       "      <td>0.0</td>\n",
       "      <td>2.0</td>\n",
       "    </tr>\n",
       "    <tr>\n",
       "      <th>2</th>\n",
       "      <td>-0.797954</td>\n",
       "      <td>0.383307</td>\n",
       "      <td>1.580926</td>\n",
       "      <td>-0.728675</td>\n",
       "      <td>1.0</td>\n",
       "      <td>0.0</td>\n",
       "      <td>2.0</td>\n",
       "    </tr>\n",
       "    <tr>\n",
       "      <th>3</th>\n",
       "      <td>-0.441948</td>\n",
       "      <td>-1.305531</td>\n",
       "      <td>-0.908614</td>\n",
       "      <td>0.719843</td>\n",
       "      <td>1.0</td>\n",
       "      <td>0.0</td>\n",
       "      <td>1.0</td>\n",
       "    </tr>\n",
       "    <tr>\n",
       "      <th>4</th>\n",
       "      <td>-0.513149</td>\n",
       "      <td>-0.292556</td>\n",
       "      <td>-0.908614</td>\n",
       "      <td>-0.776802</td>\n",
       "      <td>1.0</td>\n",
       "      <td>0.0</td>\n",
       "      <td>1.0</td>\n",
       "    </tr>\n",
       "  </tbody>\n",
       "</table>\n",
       "</div>"
      ],
      "text/plain": [
       "        age       bmi  children   charges  sex  smoker  region\n",
       "0 -1.438764 -0.453320 -0.908614  0.298584  0.0     1.0     3.0\n",
       "1 -1.509965  0.509621 -0.078767 -0.953689  1.0     0.0     2.0\n",
       "2 -0.797954  0.383307  1.580926 -0.728675  1.0     0.0     2.0\n",
       "3 -0.441948 -1.305531 -0.908614  0.719843  1.0     0.0     1.0\n",
       "4 -0.513149 -0.292556 -0.908614 -0.776802  1.0     0.0     1.0"
      ]
     },
     "execution_count": 2,
     "metadata": {},
     "output_type": "execute_result"
    }
   ],
   "source": [
    "# Preprocessing the data:\n",
    "from sklearn.compose import make_column_transformer\n",
    "from sklearn.preprocessing import OrdinalEncoder, StandardScaler\n",
    "\n",
    "copied_dataset = dataset.copy()\n",
    "\n",
    "# Choosing the numeric and non-numeric values:\n",
    "features_num = [col for col in copied_dataset.select_dtypes(include=['int', 'float']).columns]\n",
    "features_cat = [col for col in copied_dataset.select_dtypes(exclude=['int', 'float']).columns]\n",
    "\n",
    "print(f\"Numeric features: {features_num}\")\n",
    "print(f\"Non-numeric features: {features_cat}\")\n",
    "\n",
    "preprocessor = make_column_transformer (\n",
    "    (StandardScaler(), features_num),\n",
    "    (OrdinalEncoder(), features_cat),\n",
    "    remainder='passthrough'\n",
    ")\n",
    "\n",
    "columns = features_num + features_cat\n",
    "transformed_dataset = preprocessor.fit_transform(copied_dataset)\n",
    "transformed_dataset = pd.DataFrame(data=transformed_dataset, columns=columns)\n",
    "\n",
    "transformed_dataset.head()"
   ]
  },
  {
   "cell_type": "markdown",
   "id": "50c94a1f",
   "metadata": {},
   "source": [
    "# Observing the data:"
   ]
  },
  {
   "cell_type": "code",
   "execution_count": 3,
   "id": "f8d1419f",
   "metadata": {},
   "outputs": [
    {
     "data": {
      "image/png": "[encoded data removed]",
      "text/plain": [
       "<Figure size 1000x800 with 2 Axes>"
      ]
     },
     "metadata": {},
     "output_type": "display_data"
    }
   ],
   "source": [
    "import seaborn as sns\n",
    "import matplotlib.pyplot as plt\n",
    "\n",
    "# Compute correlation matrix:\n",
    "corr_matrix = transformed_dataset.corr()\n",
    "\n",
    "# Create a correlation chart:\n",
    "plt.figure(figsize=(10, 8))\n",
    "sns.heatmap(corr_matrix, annot=True, cmap='coolwarm', fmt=\".2f\", linewidths=0.5)\n",
    "plt.title(\"Correlation Chart\")\n",
    "plt.show()"
   ]
  },
  {
   "cell_type": "markdown",
   "id": "244db802",
   "metadata": {},
   "source": [
    "From observing the data we can see that charges are most highly correlated to (by magnitude):\n",
    "1. Whether the person smokes\n",
    "2. How old is the person\n",
    "3. The person's BMI\n",
    "\n",
    "All other factors are not so much related so they will be removed"
   ]
  },
  {
   "cell_type": "code",
   "execution_count": 4,
   "id": "83f8a3bf",
   "metadata": {},
   "outputs": [],
   "source": [
    "# Removing unrelated columns:\n",
    "filtered_dataset = transformed_dataset\n",
    "# filtered_dataset = transformed_dataset[['smoker', 'age', 'bmi', 'charges']]\n",
    "\n",
    "# # Compute new correlation matrix:\n",
    "# corr_matrix = filtered_dataset.corr()\n",
    "\n",
    "# # Create a new correlation chart:\n",
    "# plt.figure(figsize=(10, 8))\n",
    "# sns.heatmap(corr_matrix, annot=True, cmap='coolwarm', fmt=\".2f\", linewidths=0.5)\n",
    "# plt.title(\"Correlation Chart\")\n",
    "# plt.show()"
   ]
  },
  {
   "cell_type": "markdown",
   "id": "c698d60a",
   "metadata": {},
   "source": [
    "# Splitting to train and validation data:"
   ]
  },
  {
   "cell_type": "code",
   "execution_count": 5,
   "id": "4f0c8582",
   "metadata": {},
   "outputs": [
    {
     "name": "stdout",
     "output_type": "stream",
     "text": [
      "X train: (936, 6)\n",
      "X test: (402, 6)\n",
      "y train: (936,)\n",
      "y test: (402,)\n"
     ]
    }
   ],
   "source": [
    "from sklearn.model_selection import train_test_split\n",
    "\n",
    "# Separating X and y:\n",
    "y = filtered_dataset['charges']\n",
    "X = filtered_dataset.drop('charges', axis=1)\n",
    "\n",
    "# Splitting the data:\n",
    "X_train, X_test, y_train, y_test = train_test_split(X, y, train_size=0.7)\n",
    "\n",
    "print(f\"X train: {X_train.shape}\")\n",
    "print(f\"X test: {X_test.shape}\")\n",
    "print(f\"y train: {y_train.shape}\")\n",
    "print(f\"y test: {y_test.shape}\")"
   ]
  },
  {
   "cell_type": "markdown",
   "id": "0dadd5d0",
   "metadata": {},
   "source": [
    "# Creating the model:"
   ]
  },
  {
   "cell_type": "code",
   "execution_count": 18,
   "id": "cd32ec48",
   "metadata": {},
   "outputs": [],
   "source": [
    "from tensorflow import keras\n",
    "\n",
    "# Creating the model:\n",
    "input_shape = X_train.shape[1],\n",
    "model = keras.Sequential([\n",
    "    keras.layers.Dense(32, input_shape=input_shape, activation='relu'),\n",
    "    keras.layers.BatchNormalization(),\n",
    "    keras.layers.Dense(64, activation='relu'),\n",
    "    keras.layers.BatchNormalization(),\n",
    "    keras.layers.Dense(1, activation='linear'),\n",
    "    keras.layers.BatchNormalization(),\n",
    "])\n",
    "\n",
    "# Compiling the model:\n",
    "model.compile(\n",
    "    optimizer='adam',\n",
    "    loss='mean_absolute_error',\n",
    ")"
   ]
  },
  {
   "cell_type": "code",
   "execution_count": 19,
   "id": "7acc2fbc",
   "metadata": {},
   "outputs": [],
   "source": [
    "# Training the model:\n",
    "history = model.fit(\n",
    "    X_train,\n",
    "    y_train,\n",
    "    validation_data=(X_test, y_test),\n",
    "    batch_size=64,\n",
    "    epochs=100,\n",
    "    verbose=0\n",
    ")\n"
   ]
  },
  {
   "cell_type": "code",
   "execution_count": 20,
   "id": "24cfafdc",
   "metadata": {},
   "outputs": [
    {
     "name": "stdout",
     "output_type": "stream",
     "text": [
      "Minimum training Loss: 0.1959\n",
      "Minimum Validation Loss: 0.1493\n"
     ]
    },
    {
     "data": {
      "image/png": "[encoded data removed]",
      "text/plain": [
       "<Figure size 640x480 with 1 Axes>"
      ]
     },
     "metadata": {},
     "output_type": "display_data"
    }
   ],
   "source": [
    "# Displaying the history:\n",
    "history_df = pd.DataFrame(history.history)\n",
    "history_df.loc[:, ['loss', 'val_loss']].plot()\n",
    "print(\"Minimum training Loss: {:0.4f}\".format(history_df['loss'].min()));\n",
    "print(\"Minimum Validation Loss: {:0.4f}\".format(history_df['val_loss'].min()));"
   ]
  },
  {
   "cell_type": "markdown",
   "id": "befa52df",
   "metadata": {},
   "source": [
    "# Testing the accuracy of the model:\n",
    "Using the r2 squared value to determine how accurate is the model:"
   ]
  },
  {
   "cell_type": "code",
   "execution_count": 21,
   "id": "44e2a223",
   "metadata": {},
   "outputs": [
    {
     "name": "stdout",
     "output_type": "stream",
     "text": [
      "13/13 [==============================] - 0s 2ms/step\n",
      "R2 squared score: 0.86\n"
     ]
    }
   ],
   "source": [
    "from sklearn.metrics import r2_score\n",
    "\n",
    "# Making predictions using the model:\n",
    "y_pred = model.predict(X_test)\n",
    "\n",
    "decimals = 3\n",
    "r2 = round(r2_score(y_true=y_test, y_pred=y_pred), decimals)\n",
    "print(f\"R2 squared score: {r2}\")"
   ]
  },
  {
   "cell_type": "markdown",
   "id": "867ca082",
   "metadata": {},
   "source": [
    "# Saving the model:"
   ]
  },
  {
   "cell_type": "code",
   "execution_count": 22,
   "id": "a49c4fcb",
   "metadata": {},
   "outputs": [
    {
     "name": "stdout",
     "output_type": "stream",
     "text": [
      "Max accuracy: 0.859\n"
     ]
    }
   ],
   "source": [
    "# Saving the model ONLY if its accuracy is larger than the most accurate saved model:\n",
    "import os\n",
    "\n",
    "MODELS_DIR = \"saved_models\"\n",
    "\n",
    "models = os.listdir(MODELS_DIR)\n",
    "\n",
    "# Finding the maximum accuracy:\n",
    "max_acc = 0\n",
    "for model_name in models:\n",
    "    # Removing acc from the file's name:\n",
    "    acc = model_name[model_name.find('acc') + 3:]\n",
    "    # Getting the numerical value:\n",
    "    acc = int(acc) * (10 ** -len(acc))\n",
    "    # Getting the max value:\n",
    "    max_acc = max(max_acc, acc)\n",
    "\n",
    "print(f\"Max accuracy: {max_acc}\")\n",
    "should_save = r2 > max_acc"
   ]
  },
  {
   "cell_type": "code",
   "execution_count": 23,
   "id": "b7b46d47",
   "metadata": {},
   "outputs": [
    {
     "name": "stdout",
     "output_type": "stream",
     "text": [
      "Saved at: saved_models/acc860\n",
      "INFO:tensorflow:Assets written to: saved_models/acc860\\assets\n"
     ]
    }
   ],
   "source": [
    "if should_save:\n",
    "    # Saving the model based on the accuracy:\n",
    "    PATH = \"saved_models/acc\" + str(int(r2 * 10 ** decimals))\n",
    "\n",
    "    print(f\"Saved at: {PATH}\")\n",
    "\n",
    "    model.save(PATH)\n",
    "else:\n",
    "    print(\"Didn't save\")"
   ]
  },
  {
   "cell_type": "code",
   "execution_count": null,
   "id": "13272e47",
   "metadata": {},
   "outputs": [],
   "source": []
  }
 ],
 "metadata": {
  "kernelspec": {
   "display_name": "Python 3 (ipykernel)",
   "language": "python",
   "name": "python3"
  },
  "language_info": {
   "codemirror_mode": {
    "name": "ipython",
    "version": 3
   },
   "file_extension": ".py",
   "mimetype": "text/x-python",
   "name": "python",
   "nbconvert_exporter": "python",
   "pygments_lexer": "ipython3",
   "version": "3.10.0"
  }
 },
 "nbformat": 4,
 "nbformat_minor": 5
}
